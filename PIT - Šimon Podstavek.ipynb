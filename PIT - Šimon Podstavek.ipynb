{
 "cells": [
  {
   "cell_type": "markdown",
   "id": "4cc338cf",
   "metadata": {},
   "source": [
    "<div style='text-align: center;'><span style=\"font-size:25px;\">Pit - Šimon Podstavek</span></div>"
   ]
  },
  {
   "cell_type": "markdown",
   "id": "4842404b",
   "metadata": {},
   "source": [
    " "
   ]
  },
  {
   "cell_type": "markdown",
   "id": "f17cf9ed",
   "metadata": {},
   "source": [
    "<span style=\"font-size:18px;\">Obsah:</span>\n",
    "    \n",
    "    \n",
    "    \n"
   ]
  },
  {
   "cell_type": "markdown",
   "id": "e1082ccb",
   "metadata": {},
   "source": [
    " "
   ]
  },
  {
   "cell_type": "markdown",
   "id": "cb59e19e",
   "metadata": {},
   "source": [
    "<div style='text-align: center;'><span style=\"font-size:18px;\">1. Zaklady</span></div>"
   ]
  },
  {
   "cell_type": "markdown",
   "id": "383695f5",
   "metadata": {},
   "source": [
    "Premenne a vypisanie premennej"
   ]
  },
  {
   "cell_type": "code",
   "execution_count": null,
   "id": "1717c1d6",
   "metadata": {},
   "outputs": [],
   "source": [
    "premenna1 = 5\n",
    "print(premenna1+4)h"
   ]
  },
  {
   "cell_type": "markdown",
   "id": "172ea553",
   "metadata": {},
   "source": [
    "<br>"
   ]
  },
  {
   "cell_type": "markdown",
   "id": "f1313d48",
   "metadata": {},
   "source": [
    "V pythone existuje niekolko typov premennych: <br>\n",
    "String-obycajny text<br>\n",
    "float-Desatinne cislo<br>\n",
    "int-Celé číslo, moye byt aj v inej nez desiatkovej sustave<br>\n",
    "Boolean-True/False<br>\n",
    "List-array,usporiadany, zacina od 0-vytvara sa []<br>\n",
    "Tuple-nemenitelny array, usporiadany zacina 0, moze obsahovat aj viac typov dat-vytvara sa ()<br>\n",
    "Dictionary-objekt, neusporiadany, kazda informacia ma kluc-vytvara sa {key:'key value', key2:'key value2'}<br>\n",
    "Set-nezoradeny zoznam cisel, kazde cislo sa moze nachadzat iba raz<br>"
   ]
  },
  {
   "cell_type": "markdown",
   "id": "af5dc3d3",
   "metadata": {},
   "source": [
    "Praca s datovym typom list"
   ]
  },
  {
   "cell_type": "code",
   "execution_count": null,
   "id": "6f72fae8",
   "metadata": {
    "scrolled": true
   },
   "outputs": [],
   "source": [
    "# V liste je kazdej hodnote prideleny index pocinajuc 0\n",
    "#vytvorenie nakupneho zoznamu\n",
    "zoznam=['Bread', 'Pasta','Tomato','Banana']\n",
    "\n",
    "#vypisanie celeho zoznamu (['Bread', 'Pasta', 'Tomato', 'Banana'])\n",
    "print(zoznam)\n",
    "\n",
    "#Vypisanie Pasta (druhej polozky zo zoznamu)(Pasta)\n",
    "print(zoznam[1])\n",
    "\n",
    "#zmenenie hodnoy na urcitom indexe(['Potato', 'Pasta', 'Tomato', 'Banana'])\n",
    "zoznam[0]='Potato'\n",
    "print(zoznam)\n",
    "\n",
    "#################################################\n",
    "print(\"----------------------------------------------\")\n",
    "#################################################\n",
    "\n",
    "#Vypisanie viacerych hodnot napr. od indexu 0 az po index 2 (pise sa po index 3 kedze python neberie posledne cislo v zozname)\n",
    "print(zoznam[0:3])\n",
    "\n",
    "#vypisanie posledneho udaju (od zadu sa indexuje od -1), (Banana)\n",
    "print(zoznam[-1])\n",
    "\n",
    "#pridanie polozky na koniec zoznamu a vypisanie noveho zoznamu (['Potato', 'Pasta', 'Tomato', 'Banana', 'Paprika'])\n",
    "zoznam.append('Paprika')\n",
    "print(zoznam)\n",
    "\n",
    "#pridanie polozky na index 1 v zozname (['Potato', 'butter', 'Pasta', 'Tomato', 'Banana', 'Paprika'])\n",
    "zoznam.insert(1,'butter')\n",
    "print(zoznam)\n",
    "\n",
    "#################################################\n",
    "print(\"----------------------------------------------\")\n",
    "#################################################\n",
    "\n",
    "#vycistenie celeho zoznamu ([])\n",
    "zoznam.clear()\n",
    "print(zoznam)\n",
    "\n",
    "zoznam=['Bread', 'Pasta','Tomato','Banana']\n",
    "\n",
    "#vymaz zo specifickeho indexu a vypis hodnotu(pasta),(['Bread', 'Tomato', 'Banana'])\n",
    "print(zoznam.pop(1))\n",
    "print(zoznam)\n",
    "\n",
    "zoznam=['Bread', 'Pasta','Tomato','Banana']\n",
    "\n",
    "#vymaz konkretnu hodnotu(['Bread', 'Pasta', 'Tomato'])\n",
    "zoznam.remove('Banana')\n",
    "print(zoznam)\n",
    "#Vymazanie dat v konkretnom intervali del(od:do:krok),(['Pasta', 'Banana', 'Paprika', 'Pomegranade'])\n",
    "zoznam=['Bread', 'Pasta','Tomato','Banana', 'Pear','Paprika', 'Orange', 'Pomegranade']\n",
    "del zoznam[0:7:2]\n",
    "print(zoznam)"
   ]
  },
  {
   "cell_type": "markdown",
   "id": "0e3b936b",
   "metadata": {},
   "source": [
    "Typy sa daju menit z jedneho na druhy pomocov:<br>\n",
    "int()<br>\n",
    "float()<br>\n",
    "bool()<br>\n",
    "str()<br>"
   ]
  },
  {
   "cell_type": "markdown",
   "id": "d012986e",
   "metadata": {},
   "source": [
    "Premena typu zo str na int"
   ]
  },
  {
   "cell_type": "code",
   "execution_count": null,
   "id": "b7b5e2a2",
   "metadata": {},
   "outputs": [],
   "source": [
    "import datetime\n",
    "birth_year=input('Enter your birth year: ')\n",
    "age = datetime.datetime.now().year-int(birth_year)\n",
    "print(age)"
   ]
  },
  {
   "cell_type": "markdown",
   "id": "efaaf63a",
   "metadata": {},
   "source": [
    "<br>"
   ]
  },
  {
   "cell_type": "markdown",
   "id": "67a6598f",
   "metadata": {},
   "source": [
    "Scitanie dvoch desatinnych cisel"
   ]
  },
  {
   "cell_type": "code",
   "execution_count": null,
   "id": "c656065d",
   "metadata": {},
   "outputs": [],
   "source": [
    "def summer(x,y):\n",
    "    s=x+y\n",
    "    print('Result is: '+str(s))\n",
    "\n",
    "try:\n",
    "    x=float(input('first number: '))\n",
    "    y=float(input('second number: '))\n",
    "    summer(x,y)\n",
    "except:\n",
    "    print('error in numbers given')"
   ]
  },
  {
   "cell_type": "markdown",
   "id": "ec232f64",
   "metadata": {},
   "source": [
    "<br>"
   ]
  },
  {
   "cell_type": "markdown",
   "id": "0e3a172c",
   "metadata": {},
   "source": [
    "Premena celeho, kladneho cisla z desiatkovej do dvojkovej sustavy"
   ]
  },
  {
   "cell_type": "code",
   "execution_count": null,
   "id": "7e7af76e",
   "metadata": {},
   "outputs": [],
   "source": [
    "def to_binary(x):\n",
    "    result=\"\"\n",
    "    while x != 0:\n",
    "        reminder=x%2\n",
    "        result=result+(str(int(reminder)))\n",
    "        x=(x-reminder)/2\n",
    "    print(result)\n",
    "\n",
    "while True:    \n",
    "    try:\n",
    "        x=int(input('Enter positive and whole number to be converted into binary: '))\n",
    "        if(x>0):\n",
    "            to_binary(x)\n",
    "            break\n",
    "        elif(x>=0):\n",
    "            print('number has to be a positive one')\n",
    "            break\n",
    "\n",
    "    except ValueError:\n",
    "        print('error in numbers given, try again')\n"
   ]
  },
  {
   "cell_type": "markdown",
   "id": "437af232",
   "metadata": {},
   "source": [
    "Cykly"
   ]
  },
  {
   "cell_type": "code",
   "execution_count": null,
   "id": "14f82759",
   "metadata": {},
   "outputs": [],
   "source": [
    "#Vypisanie vsetkych poloziek zo zoznamu na novy riadok\n",
    "list=[\"apple\", \"banana\", \"cherry\", \"apple\", \"cherry\"]\n",
    "\n",
    "for x in list:\n",
    "    print(x)"
   ]
  },
  {
   "cell_type": "markdown",
   "id": "981deba1",
   "metadata": {},
   "source": [
    " Porovna cislo oproti cislu 9"
   ]
  },
  {
   "cell_type": "code",
   "execution_count": null,
   "id": "eb9adce9",
   "metadata": {
    "scrolled": true
   },
   "outputs": [],
   "source": [
    "def porovnaj(x):\n",
    "    if x > 9:\n",
    "        print(str(x)+ ' je vacsie ako 9')\n",
    "    elif x < 9:\n",
    "        print(str(x)+ ' je mensie ako 9')\n",
    "    elif x == 9:\n",
    "        print(str(x)+ ' sa rovna 9')\n",
    "    else:\n",
    "        print('x nie je ani vacsie ani rovne a ani mensie ako 9')\n",
    "\n",
    "\n",
    "try:\n",
    "    x = int(input('Zadajte cislo: '))\n",
    "    porovnaj(x)\n",
    "except ValueError:\n",
    "    print('Chyba vo vstupe')"
   ]
  },
  {
   "cell_type": "markdown",
   "id": "bf8f3c7c",
   "metadata": {},
   "source": [
    "Zistenie znamky z percenta"
   ]
  },
  {
   "cell_type": "code",
   "execution_count": null,
   "id": "a20c8d59",
   "metadata": {},
   "outputs": [],
   "source": [
    "marks={1:90, 2:76, 3:61, 4:46, 5:0}\n",
    "\n",
    "def getMark(per):\n",
    "    for i in range(5,0,-1):\n",
    "        if per >= marks[i]:\n",
    "            mark=i\n",
    "        elif per < 0:\n",
    "            return 'Input has to be a posive number'\n",
    "            break\n",
    "    return 'Your mark is: '+str(mark)\n",
    "try:\n",
    "    print(getMark(int(input('Enter your percentage score: '))))\n",
    "except ValueError:\n",
    "    print('Please enter only numbers')"
   ]
  },
  {
   "cell_type": "markdown",
   "id": "7ab7123a",
   "metadata": {},
   "source": [
    "argument d=ava sa do zatvoriek napr. print(x)\n",
    "inicializovanie\n",
    "priradenie"
   ]
  }
 ],
 "metadata": {
  "kernelspec": {
   "display_name": "Python 3 (ipykernel)",
   "language": "python",
   "name": "python3"
  },
  "language_info": {
   "codemirror_mode": {
    "name": "ipython",
    "version": 3
   },
   "file_extension": ".py",
   "mimetype": "text/x-python",
   "name": "python",
   "nbconvert_exporter": "python",
   "pygments_lexer": "ipython3",
   "version": "3.9.7"
  }
 },
 "nbformat": 4,
 "nbformat_minor": 5
}
