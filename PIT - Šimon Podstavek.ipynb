{
 "cells": [
  {
   "cell_type": "markdown",
   "id": "4cc338cf",
   "metadata": {},
   "source": [
    "<div style='text-align: center;'><span style=\"font-size:25px;\">Pit - Šimon Podstavek</span></div>"
   ]
  },
  {
   "cell_type": "markdown",
   "id": "4842404b",
   "metadata": {},
   "source": [
    " "
   ]
  },
  {
   "cell_type": "markdown",
   "id": "f17cf9ed",
   "metadata": {},
   "source": [
    "<span style=\"font-size:18px;\">Obsah:</span>\n",
    "    \n",
    "    \n",
    "    \n"
   ]
  },
  {
   "cell_type": "markdown",
   "id": "e1082ccb",
   "metadata": {},
   "source": [
    " "
   ]
  },
  {
   "cell_type": "markdown",
   "id": "cb59e19e",
   "metadata": {},
   "source": [
    "<div style='text-align: center;'><span style=\"font-size:18px;\">1. Zaklady</span></div>"
   ]
  },
  {
   "cell_type": "markdown",
   "id": "383695f5",
   "metadata": {},
   "source": [
    "Premenne a vypisanie premennej"
   ]
  },
  {
   "cell_type": "code",
   "execution_count": null,
   "id": "1717c1d6",
   "metadata": {},
   "outputs": [],
   "source": [
    "premenna1 = 5\n",
    "print(premenna1+4)h"
   ]
  },
  {
   "cell_type": "markdown",
   "id": "172ea553",
   "metadata": {},
   "source": [
    "<br>"
   ]
  },
  {
   "cell_type": "markdown",
   "id": "f1313d48",
   "metadata": {},
   "source": [
    "V pythone existuje niekolko typov premennych: <br>\n",
    "String-obycajny text<br>\n",
    "float-Desatinne cislo<br>\n",
    "int-Celé číslo, moye byt aj v inej nez desiatkovej sustave<br>\n",
    "Boolean-True/False<br>\n",
    "List-array,usporiadany, zacina od 0-vytvara sa []<br>\n",
    "Tuple-nemenitelny array, usporiadany zacina 0, moze obsahovat aj viac typov dat-vytvara sa ()<br>\n",
    "Dictionary-objekt, neusporiadany, kazda informacia ma kluc-vytvara sa {key:'key value', key2:'key value2'}<br>\n",
    "Set-nezoradeny zoznam cisel, kazde cislo sa moze nachadzat iba raz<br>"
   ]
  },
  {
   "cell_type": "markdown",
   "id": "0e3b936b",
   "metadata": {},
   "source": [
    "Typy sa daju menit z jedneho na druhy pomocov:\n",
    "int()<br>\n",
    "float()<br>\n",
    "bool()<br>\n",
    "str()<br>"
   ]
  },
  {
   "cell_type": "markdown",
   "id": "d012986e",
   "metadata": {},
   "source": [
    "Premena typu zo str na int"
   ]
  },
  {
   "cell_type": "code",
   "execution_count": null,
   "id": "b7b5e2a2",
   "metadata": {},
   "outputs": [],
   "source": [
    "import datetime\n",
    "birth_year=input('Enter your birth year: ')\n",
    "age = datetime.datetime.now().year-int(birth_year)\n",
    "print(age)"
   ]
  },
  {
   "cell_type": "markdown",
   "id": "efaaf63a",
   "metadata": {},
   "source": [
    "<br>"
   ]
  },
  {
   "cell_type": "markdown",
   "id": "67a6598f",
   "metadata": {},
   "source": [
    "Scitanie dvoch desatinnych cisel"
   ]
  },
  {
   "cell_type": "code",
   "execution_count": null,
   "id": "c656065d",
   "metadata": {},
   "outputs": [],
   "source": [
    "def summer(x,y):\n",
    "    s=x+y\n",
    "    print('Result is: '+str(s))\n",
    "\n",
    "try:\n",
    "    x=float(input('first number: '))\n",
    "    y=float(input('second number: '))\n",
    "    summer(x,y)\n",
    "except:\n",
    "    print('error in numbers given')"
   ]
  },
  {
   "cell_type": "markdown",
   "id": "ec232f64",
   "metadata": {},
   "source": [
    "<br>"
   ]
  },
  {
   "cell_type": "markdown",
   "id": "0e3a172c",
   "metadata": {},
   "source": [
    "Premena celeho, kladneho cisla z desiatkovej do dvojkovej sustavy"
   ]
  },
  {
   "cell_type": "code",
   "execution_count": null,
   "id": "7e7af76e",
   "metadata": {},
   "outputs": [],
   "source": [
    "def to_binary(x):\n",
    "    result=\"\"\n",
    "    while x != 0:\n",
    "        reminder=x%2\n",
    "        result=result+(str(int(reminder)))\n",
    "        x=(x-reminder)/2\n",
    "    print(result)\n",
    "\n",
    "\n",
    "\n",
    "    \n",
    "while True:    \n",
    "    try:\n",
    "        x=int(input('Enter positive and whole number to be converted into binary: '))\n",
    "        if(x>0):\n",
    "            to_binary(x)\n",
    "            break\n",
    "        elif(x>=0):\n",
    "            print('number has to be a positive one')\n",
    "            break\n",
    "\n",
    "    except ValueError:\n",
    "        print('error in numbers given, try again')\n"
   ]
  },
  {
   "cell_type": "markdown",
   "id": "437af232",
   "metadata": {},
   "source": [
    "Cykly"
   ]
  },
  {
   "cell_type": "code",
   "execution_count": null,
   "id": "14f82759",
   "metadata": {},
   "outputs": [],
   "source": [
    "opakuj=0\n",
    "\n",
    "\n",
    " if(x>0):\n",
    "        to_binary(x)\n",
    "    elif(x>=0):\n",
    "        print('number has to be a positive one')\n",
    "\n",
    "\n",
    "while opakuj < 15:\n",
    "    print(\"opakujem\")\n",
    "    opakuj +=1\n",
    "else:\n",
    "    print(\"uz neopakujem\")"
   ]
  },
  {
   "cell_type": "markdown",
   "id": "981deba1",
   "metadata": {},
   "source": [
    " Porovna cislo oproti cislu 9"
   ]
  },
  {
   "cell_type": "code",
   "execution_count": 4,
   "id": "eb9adce9",
   "metadata": {},
   "outputs": [
    {
     "name": "stdout",
     "output_type": "stream",
     "text": [
      "Zadajte cislo: sd\n",
      "chyba vo vstupe\n"
     ]
    }
   ],
   "source": [
    "def porovnaj(x):\n",
    "    if x > 9:\n",
    "        print(str(x)+ ' je vacsie ako 9')\n",
    "    elif x < 9:\n",
    "        print(str(x)+ ' je mensie ako 9')\n",
    "    elif x == 9:\n",
    "        print(str(x)+ ' sa rovna 9')\n",
    "    else:\n",
    "        print('x nie je ani vacsie ani rovne a ani mensie ako 9')\n",
    "\n",
    "\n",
    "try:\n",
    "    x = int(input('Zadajte cislo: '))\n",
    "    porovnaj(x)\n",
    "except :\n",
    "    print('chyba vo vstupe')"
   ]
  },
  {
   "cell_type": "markdown",
   "id": "7ab7123a",
   "metadata": {},
   "source": [
    "test zmeny 123\n"
   ]
  }
 ],
 "metadata": {
  "kernelspec": {
   "display_name": "Python 3 (ipykernel)",
   "language": "python",
   "name": "python3"
  },
  "language_info": {
   "codemirror_mode": {
    "name": "ipython",
    "version": 3
   },
   "file_extension": ".py",
   "mimetype": "text/x-python",
   "name": "python",
   "nbconvert_exporter": "python",
   "pygments_lexer": "ipython3",
   "version": "3.9.7"
  }
 },
 "nbformat": 4,
 "nbformat_minor": 5
}
