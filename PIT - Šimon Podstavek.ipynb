{
 "cells": [
  {
   "cell_type": "markdown",
   "id": "4cc338cf",
   "metadata": {},
   "source": [
    "<span style=\"font-size:25px;\">Pit - Šimon Podstavek</span>"
   ]
  },
  {
   "cell_type": "markdown",
   "id": "4842404b",
   "metadata": {},
   "source": [
    " "
   ]
  },
  {
   "cell_type": "markdown",
   "id": "f17cf9ed",
   "metadata": {},
   "source": [
    "<span style=\"font-size:18px;\">Obsah:</span>\n",
    "    \n",
    "    \n",
    "    \n"
   ]
  },
  {
   "cell_type": "markdown",
   "id": "e1082ccb",
   "metadata": {},
   "source": [
    " "
   ]
  },
  {
   "cell_type": "markdown",
   "id": "cb59e19e",
   "metadata": {},
   "source": [
    "<div style='text-align: center;'><span style=\"font-size:18px;\">1. Zaklady</span></div>"
   ]
  },
  {
   "cell_type": "markdown",
   "id": "383695f5",
   "metadata": {},
   "source": [
    "Premenne a vypisanie premennej"
   ]
  },
  {
   "cell_type": "code",
   "execution_count": null,
   "id": "1717c1d6",
   "metadata": {},
   "outputs": [],
   "source": [
    "premenna1 = 5\n",
    "print(premenna1+4)h"
   ]
  },
  {
   "cell_type": "markdown",
   "id": "4e6777dc",
   "metadata": {},
   "source": [
    "<br>"
   ]
  },
  {
   "cell_type": "markdown",
   "id": "8c3638ef",
   "metadata": {},
   "source": [
    "V pythone existuje niekolko typov premennych: <br>\n",
    "String-obycajny text<br>\n",
    "float-Desatinne cislo<br>\n",
    "int-Celé číslo, moye byt aj v inej nez desiatkovej sustave<br>\n",
    "Boolean-True/False<br>\n",
    "List-array,usporiadany, zacina od 0-vytvara sa ()<br>\n",
    "Tuple-nemenitelny array, usporiadany zacina 0, moze obsahovat aj viac typov dat-vytvara sa ()<br>\n",
    "Dictionary-objekt, neusporiadany, kazda informacia ma kluc-vytvara sa {key:'key value', key2:'key value2'}<br>\n",
    "Set-nezoradeny zoznam cisel, kazde cislo sa moze nachadzat iba raz<br>"
   ]
  },
  {
   "cell_type": "markdown",
   "id": "f9ed6c2e",
   "metadata": {},
   "source": [
    "Typy sa daju menit z jedneho na druhy pomocov:\n",
    "int()<br>\n",
    "float()<br>\n",
    "bool()<br>\n",
    "str()<br>"
   ]
  },
  {
   "cell_type": "markdown",
   "id": "d012986e",
   "metadata": {},
   "source": [
    "Premena typu zo str na int"
   ]
  },
  {
   "cell_type": "code",
   "execution_count": null,
   "id": "b7b5e2a2",
   "metadata": {},
   "outputs": [],
   "source": [
    "import datetime\n",
    "birth_year=input('Enter your birth year: ')\n",
    "age = datetime.datetime.now().year-int(birth_year)\n",
    "print(age)"
   ]
  },
  {
   "cell_type": "markdown",
   "id": "02a4cc89",
   "metadata": {},
   "source": [
    "<br>"
   ]
  },
  {
   "cell_type": "markdown",
   "id": "a25629c9",
   "metadata": {},
   "source": [
    "Scitanie dvoch desatinnych cisel"
   ]
  },
  {
   "cell_type": "code",
   "execution_count": 13,
   "id": "5ae9c8f7",
   "metadata": {},
   "outputs": [
    {
     "name": "stdout",
     "output_type": "stream",
     "text": [
      "first number: 1\n",
      "second number: 54\n",
      "Result is: 55.0\n"
     ]
    }
   ],
   "source": [
    "def summer(x,y):\n",
    "    s=x+y\n",
    "    print('Result is: '+str(s))\n",
    "\n",
    "try:\n",
    "    x=float(input('first number: '))\n",
    "    y=float(input('second number: '))\n",
    "    summer(x,y)\n",
    "except:\n",
    "    print('error in numbers given')"
   ]
  },
  {
   "cell_type": "markdown",
   "id": "437af232",
   "metadata": {},
   "source": [
    "Cykly"
   ]
  },
  {
   "cell_type": "code",
   "execution_count": null,
   "id": "14f82759",
   "metadata": {},
   "outputs": [],
   "source": [
    "opakuj=0\n",
    "while opakuj < 15:\n",
    "    print(\"opakujem\")\n",
    "    opakuj +=1\n",
    "else:\n",
    "    print(\"uz neopakujem\")"
   ]
  },
  {
   "cell_type": "markdown",
   "id": "981deba1",
   "metadata": {},
   "source": [
    " Porovna cislo oproti cislu 9"
   ]
  },
  {
   "cell_type": "code",
   "execution_count": 4,
   "id": "0608a660",
   "metadata": {},
   "outputs": [
    {
     "name": "stdout",
     "output_type": "stream",
     "text": [
      "Zadajte cislo: sd\n",
      "chyba vo vstupe\n"
     ]
    }
   ],
   "source": [
    "def porovnaj(x):\n",
    "    if x > 9:\n",
    "        print(str(x)+ ' je vacsie ako 9')\n",
    "    elif x < 9:\n",
    "        print(str(x)+ ' je mensie ako 9')\n",
    "    elif x == 9:\n",
    "        print(str(x)+ ' sa rovna 9')\n",
    "    else:\n",
    "        print('x nie je ani vacsie ani rovne a ani mensie ako 9')\n",
    "\n",
    "\n",
    "try:\n",
    "    x = int(input('Zadajte cislo: '))\n",
    "    porovnaj(x)\n",
    "except :\n",
    "    print('chyba vo vstupe')"
   ]
  },
  {
   "cell_type": "markdown",
   "id": "7ab7123a",
   "metadata": {},
   "source": [
    "test zmeny 123\n"
   ]
  }
 ],
 "metadata": {
  "kernelspec": {
   "display_name": "Python 3 (ipykernel)",
   "language": "python",
   "name": "python3"
  },
  "language_info": {
   "codemirror_mode": {
    "name": "ipython",
    "version": 3
   },
   "file_extension": ".py",
   "mimetype": "text/x-python",
   "name": "python",
   "nbconvert_exporter": "python",
   "pygments_lexer": "ipython3",
   "version": "3.9.7"
  }
 },
 "nbformat": 4,
 "nbformat_minor": 5
}
