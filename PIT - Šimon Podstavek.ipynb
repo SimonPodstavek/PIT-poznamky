{
 "cells": [
  {
   "cell_type": "markdown",
   "id": "4cc338cf",
   "metadata": {},
   "source": [
    "<span style=\"font-size:25px;\">Pit - Šimon Podstavek</span>"
   ]
  },
  {
   "cell_type": "markdown",
   "id": "4842404b",
   "metadata": {},
   "source": [
    " "
   ]
  },
  {
   "cell_type": "markdown",
   "id": "f17cf9ed",
   "metadata": {},
   "source": [
    "<span style=\"font-size:18px;\">Obsah:</span>\n",
    "    \n",
    "    \n",
    "    \n",
    "    \n",
    "Číslovanie nadpisov \"1.1.1\" \"Číslo lekcie\" + \"# nadpisu\" + \"# školskej hodiny od 2021/9/23 (ISO 8601)\""
   ]
  },
  {
   "cell_type": "markdown",
   "id": "e1082ccb",
   "metadata": {},
   "source": [
    " "
   ]
  },
  {
   "cell_type": "markdown",
   "id": "cb59e19e",
   "metadata": {},
   "source": [
    "<div style='text-align: center;'><span style=\"font-size:18px;\">1. Zaklady</span></div>"
   ]
  },
  {
   "cell_type": "markdown",
   "id": "383695f5",
   "metadata": {},
   "source": [
    "1.1.1 Premenne a vypisanie premennej"
   ]
  },
  {
   "cell_type": "code",
   "execution_count": null,
   "id": "1717c1d6",
   "metadata": {},
   "outputs": [],
   "source": [
    "premenna1 = 5\n",
    "print(premenna1+4)"
   ]
  },
  {
   "cell_type": "markdown",
   "id": "97256749",
   "metadata": {},
   "source": [
    "1.2.1 Vypisanie ahoj 8 krat za sebou"
   ]
  },
  {
   "cell_type": "code",
   "execution_count": null,
   "id": "dd8310d4",
   "metadata": {},
   "outputs": [],
   "source": [
    "print('ahoj '*8)"
   ]
  },
  {
   "cell_type": "markdown",
   "id": "981deba1",
   "metadata": {},
   "source": [
    "1.3.1 Porovna cislo oproti cislu 9"
   ]
  },
  {
   "cell_type": "raw",
   "id": "6dd32a75",
   "metadata": {},
   "source": [
    "def porovnaj(x):\n",
    "    if x > 9:\n",
    "        print(str(x)+ ' je vacsie ako 9')\n",
    "    elif x < 9:\n",
    "        print(str(x)+ ' je mensie ako 9')\n",
    "    elif x == 9:\n",
    "        print(str(x)+ ' sa rovna 9')\n",
    "    else:\n",
    "        print('x nie je ani vacsie ani rovne a ani mensie ako 9')\n",
    "\n",
    "while True:\n",
    "    try:\n",
    "        x = int(input('Zadajte cislo: '))\n",
    "        porovnaj(x)\n",
    "        break\n",
    "    except :\n",
    "        print('chyba vo vstupe')\n",
    "        break"
   ]
  },
  {
   "cell_type": "markdown",
   "id": "437af232",
   "metadata": {},
   "source": [
    "1.4.1 Cyklus"
   ]
  },
  {
   "cell_type": "code",
   "execution_count": null,
   "id": "14f82759",
   "metadata": {},
   "outputs": [],
   "source": [
    "opakuj=0\n",
    "while opakuj < 15:\n",
    "    print(\"opakujem\")\n",
    "    opakuj +=1\n",
    "else:\n",
    "    print(\"uz neopakujem\")"
   ]
  },
  {
   "cell_type": "markdown",
   "id": "7ab7123a",
   "metadata": {},
   "source": [
    "test zmeny56\n"
   ]
  }
 ],
 "metadata": {
  "kernelspec": {
   "display_name": "Python 3 (ipykernel)",
   "language": "python",
   "name": "python3"
  },
  "language_info": {
   "codemirror_mode": {
    "name": "ipython",
    "version": 3
   },
   "file_extension": ".py",
   "mimetype": "text/x-python",
   "name": "python",
   "nbconvert_exporter": "python",
   "pygments_lexer": "ipython3",
   "version": "3.9.7"
  }
 },
 "nbformat": 4,
 "nbformat_minor": 5
}
